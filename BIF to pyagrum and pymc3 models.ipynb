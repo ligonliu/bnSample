{
 "cells": [
  {
   "cell_type": "markdown",
   "id": "f35657e4",
   "metadata": {},
   "source": [
    "BIF (Bayesian Interchange Format) is a legacy format for representing Bayesian Networks. For a long period between late 1990s, BIF is not the only standard format for Bayesian Networks. Nowadays, there are emerging formats and modeling languages, such as [stan](http://www.stat.columbia.edu/~gelman/research/published/stan-paper-revision-feb2015.pdf), [UAI format](https://www.cs.huji.ac.il/project/PASCAL/fileFormat.php), and [PMML](https://dmg.org/pmml/v4-4-1/BayesianNetwork.html). \n",
    "\n",
    "I have been working with BIF-represented models for a while, during which I wrote this BN class to import BIF into pyagrum and pymc3 for sampling and inference. Hope this could help you."
   ]
  },
  {
   "cell_type": "markdown",
   "id": "251e5c25",
   "metadata": {},
   "source": [
    "## Version is important !\n",
    "Because these code were written for older versions of pymc3 and pyagrum, they are not compatible with current versions of pymc3 and pyagrum. \n",
    "\n",
    "The compatible versions are python 3.8, pymc3 3.9.3, pyAgrum 0.18.0, theano 1.0.5, arviz 0.11.0\n",
    "\n",
    "You are recommended to set up a separate virtualenv or conda environment for running these scripts.\n",
    "\n",
    "## Conda environment setup\n",
    "\n",
    "    conda create -n pymc3 python=3.8.13 pip\n",
    "    conda activate pymc3\n",
    "    pip install arviz==0.11.0 pyagrum==0.18.0 pymc3==3.9.3\n"
   ]
  },
  {
   "cell_type": "code",
   "execution_count": 5,
   "id": "a9c7ad42",
   "metadata": {},
   "outputs": [
    {
     "name": "stdout",
     "output_type": "stream",
     "text": [
      "alarm.bif   cancer.bif      hailfinder.bif  mildew.bif      water.bif\n",
      "andes.bif   child.bif       hepar2.bif      munin.bif       win95pts.bif\n",
      "asia.bif    diabetes.bif    insurance.bif   pathfinder.bif\n",
      "barley.bif  earthquake.bif  link.bif        pigs.bif\n",
      "(pymc3) "
     ]
    },
    {
     "ename": "",
     "evalue": "1",
     "output_type": "error",
     "traceback": []
    }
   ],
   "source": [
    "ls models"
   ]
  },
  {
   "cell_type": "code",
   "execution_count": 2,
   "id": "f9f69012",
   "metadata": {},
   "outputs": [
    {
     "name": "stdout",
     "output_type": "stream",
     "text": [
      "(pymc3) "
     ]
    },
    {
     "ename": "",
     "evalue": "1",
     "output_type": "error",
     "traceback": []
    }
   ],
   "source": [
    "conda activate pymc3"
   ]
  },
  {
   "cell_type": "code",
   "execution_count": 15,
   "id": "5d07fdc0",
   "metadata": {},
   "outputs": [
    {
     "name": "stdout",
     "output_type": "stream",
     "text": [
      "Usage: bnSample.py model_name <csv|netCDF> sample_size\n",
      "sample will be saved in samples/model_name/ as CSV files or samples/model_name.nc as netCDF file\n",
      "actual sampled size may be slightly larger than sample_size\n",
      "in which case, discard some initial samples for better convergence\n",
      "(pymc3) "
     ]
    },
    {
     "ename": "",
     "evalue": "1",
     "output_type": "error",
     "traceback": []
    }
   ],
   "source": [
    "bnSample.py "
   ]
  },
  {
   "cell_type": "markdown",
   "id": "81d3b9f7",
   "metadata": {},
   "source": [
    "Sample from the BayesNet defined by models/asia.bif, output format CSV, target sample size 100000"
   ]
  },
  {
   "cell_type": "code",
   "execution_count": 23,
   "id": "59f7bb1b",
   "metadata": {},
   "outputs": [
    {
     "name": "stdout",
     "output_type": "stream",
     "text": [
      "Multiprocess sampling (16 chains in 16 jobs)\n",
      "BinaryGibbsMetropolis: [asia, tub, smoke, lung, bronc, either, xray, dysp]\n",
      "Sampling 16 chains for 1_000 tune and 6_251 draw iterations (16_000 + 100_016 draws total) took 59 seconds.\n",
      "The number of effective samples is smaller than 25% for some parameters.\n",
      "(pymc3) "
     ]
    },
    {
     "ename": "",
     "evalue": "1",
     "output_type": "error",
     "traceback": []
    }
   ],
   "source": [
    "bnSample.py asia csv 100000"
   ]
  },
  {
   "cell_type": "markdown",
   "id": "ebd6184a",
   "metadata": {},
   "source": [
    "The results are stored in \"samples/asia\" directory:"
   ]
  },
  {
   "cell_type": "code",
   "execution_count": 24,
   "id": "713f8bb0",
   "metadata": {},
   "outputs": [
    {
     "name": "stdout",
     "output_type": "stream",
     "text": [
      "\u001b[0m\u001b[01;34masia\u001b[0m\n",
      "(pymc3) "
     ]
    },
    {
     "ename": "",
     "evalue": "1",
     "output_type": "error",
     "traceback": []
    }
   ],
   "source": [
    "ls samples/"
   ]
  },
  {
   "cell_type": "code",
   "execution_count": 26,
   "id": "d4411472",
   "metadata": {},
   "outputs": [
    {
     "name": "stdout",
     "output_type": "stream",
     "text": [
      "chain-0.csv   chain-12.csv  chain-15.csv  chain-3.csv  chain-6.csv  chain-9.csv\n",
      "chain-10.csv  chain-13.csv  chain-1.csv   chain-4.csv  chain-7.csv\n",
      "chain-11.csv  chain-14.csv  chain-2.csv   chain-5.csv  chain-8.csv\n",
      "(pymc3) "
     ]
    },
    {
     "ename": "",
     "evalue": "1",
     "output_type": "error",
     "traceback": []
    }
   ],
   "source": [
    "ls samples/asia"
   ]
  },
  {
   "cell_type": "code",
   "execution_count": 21,
   "id": "de9d1cc5",
   "metadata": {},
   "outputs": [
    {
     "name": "stdout",
     "output_type": "stream",
     "text": [
      "Usage: sampleCount.py dataset_name [dataset2_name] ...\n",
      "(pymc3) "
     ]
    },
    {
     "ename": "",
     "evalue": "1",
     "output_type": "error",
     "traceback": []
    }
   ],
   "source": [
    "sampleCount.py"
   ]
  },
  {
   "cell_type": "code",
   "execution_count": 32,
   "id": "43f7f6ea",
   "metadata": {},
   "outputs": [
    {
     "name": "stdout",
     "output_type": "stream",
     "text": [
      "Counting asia....\n",
      "31 uniques, sorting by frequency....Sort Complete\n",
      "Writing to count.txt.gz\n",
      "(pymc3) "
     ]
    },
    {
     "ename": "",
     "evalue": "1",
     "output_type": "error",
     "traceback": []
    }
   ],
   "source": [
    "sampleCount.py asia"
   ]
  },
  {
   "cell_type": "markdown",
   "id": "fb8d9825",
   "metadata": {},
   "source": [
    "An ASCII count file will be stored in samples/asia/count.txt.gz; Binary value tuples, count and their probabilities from the BayesNet is stored in samples/asia/proj in numpy.ndarray format."
   ]
  },
  {
   "cell_type": "code",
   "execution_count": 28,
   "id": "4143104b",
   "metadata": {},
   "outputs": [
    {
     "name": "stdout",
     "output_type": "stream",
     "text": [
      "chain-0.csv   chain-13.csv  chain-2.csv  chain-6.csv  \u001b[0m\u001b[01;31mcount.txt.gz\u001b[0m\n",
      "chain-10.csv  chain-14.csv  chain-3.csv  chain-7.csv  \u001b[01;34mproj\u001b[0m\n",
      "chain-11.csv  chain-15.csv  chain-4.csv  chain-8.csv\n",
      "chain-12.csv  chain-1.csv   chain-5.csv  chain-9.csv\n",
      "(pymc3) "
     ]
    },
    {
     "ename": "",
     "evalue": "1",
     "output_type": "error",
     "traceback": []
    }
   ],
   "source": [
    "ls samples/asia"
   ]
  },
  {
   "cell_type": "code",
   "execution_count": 29,
   "id": "6998070d",
   "metadata": {},
   "outputs": [
    {
     "name": "stdout",
     "output_type": "stream",
     "text": [
      "all.count.npy  all.npy  all.prob.npy\n",
      "(pymc3) "
     ]
    },
    {
     "ename": "",
     "evalue": "1",
     "output_type": "error",
     "traceback": []
    }
   ],
   "source": [
    "ls samples/asia/proj"
   ]
  },
  {
   "cell_type": "markdown",
   "id": "843790ca",
   "metadata": {},
   "source": [
    "Now, we can invoke JSDivergences.py to compute the JS divergence between sample and distribution. It draws data from all.count.npy and all.prob.npy"
   ]
  },
  {
   "cell_type": "code",
   "execution_count": 34,
   "id": "0f3ad167",
   "metadata": {},
   "outputs": [
    {
     "name": "stdout",
     "output_type": "stream",
     "text": [
      "RawJSD, RealJSD, SampleCoverage = 0.005578738820948832 , 0.15180886603046445 , 0.9351579002977749\n",
      "(pymc3) "
     ]
    },
    {
     "ename": "",
     "evalue": "1",
     "output_type": "error",
     "traceback": []
    }
   ],
   "source": [
    "JSDivergences.py asia"
   ]
  },
  {
   "cell_type": "code",
   "execution_count": null,
   "id": "799e2d3b",
   "metadata": {},
   "outputs": [],
   "source": []
  }
 ],
 "metadata": {
  "kernelspec": {
   "display_name": "Bash",
   "language": "bash",
   "name": "bash"
  },
  "language_info": {
   "codemirror_mode": "shell",
   "file_extension": ".sh",
   "mimetype": "text/x-sh",
   "name": "bash"
  }
 },
 "nbformat": 4,
 "nbformat_minor": 5
}
